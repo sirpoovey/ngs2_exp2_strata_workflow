{
 "cells": [
  {
   "cell_type": "markdown",
   "metadata": {},
   "source": [
    "# NGSS WITNESS Experiment 2 using Bedrock\n",
    "\n",
    "# Pre-registration summary\n",
    "\n",
    "+ The experiment was pre-registered on 2017-03-31, and the pre-registration form is available at https://osf.io/swpa6/.\n",
    "+ The experiment was later amended on 2017-07-07 per https://osf.io/qjhb5/.\n",
    "+ And amended again on 2017-08-08 per https://osf.io/qzgk2/.\n",
    "\n",
    "## Experimental design:\n",
    "\n",
    "+ Subjects are given the option to affiliate with one of several available groups represented by evaluatively neutral avatars, such as geometric patterns or pictures of animals.\n",
    "\n",
    "+ Subjects are then be given the opportunity to form network connections with both in-group and out-group members. Connections will be established based on mutual agreement (i.e. accepting connection requests). \n",
    "\n",
    "+ Once networks are formed, subjects play a multi-round cooperation game where they are given the option to cooperate with their neighbors or defect.\n",
    "\n",
    "-\tCooperate entails reducing one's own wealth by 50 'units' per neighbor in order to increase the wealth of all neighbors by 100 units each while defection generates no unit cost or benefit.\n",
    "-\tBefore making each decision, subjects are reminded of their number of neighbors and the neighbors' previous decisions.\n",
    "-\tAt the end of each turn, subjects are informed about the decisions of their neighbors, along with their own payoff.\n",
    "\n",
    "+ After every round, the probability that another round will occur is 0.8, and the probability that there will be a rewiring round is 0.25. At each rewiring round subjects are reminded of the size and the performance of each group and are given the opportunity to choose to switch to a different group or stay with their current group. If subjects switch groups, new within and between group ties will have to be generated de novo according to the procedure outlined above.\n",
    "\n",
    "\n",
    "## Experimental conditions:\n",
    "\n",
    " Subjects are randomly assigned to one of four conditions of varying diversity of group identities (two avatar options vs four avatar options) and group-pairing probabilities (Unbiased random pairings in which subjects are equally likely to be paired with in-group vs out-group members vs. biased pairings in which subjects are more likely to be paired with in-group members). These two factors are combined in a factorial design, with the resulting four conditions: \n",
    "\n",
    "+\tUnbiased Pairing - 2 Avatars\n",
    "+\tUnbiased Pairing - 4 Avatars\n",
    "+\tBiased Pairing - 2 Avatars\n",
    "+\tBiased Pairing - 4 Avatars\n",
    "\n",
    "\n",
    "# Links to other documents in this submission \n",
    "\n",
    "+ World Lab Empanelment Screener https://osf.io/z5cjm/\n",
    "+ Original articles \n",
    "- Fu et al. (2012a): https://osf.io/dfgmy/\n",
    "- Fu et al. (2012b): https://osf.io/uz8s9/\n"
   ]
  },
  {
   "cell_type": "markdown",
   "metadata": {},
   "source": [
    "# Bedrock Requirements to Run this Experiment\n",
    "\n",
    "* [Spreadsheet](https://github.com/Bedrock-py/opal-dataloader-ingest-spreadsheet)\n",
    "* [logit2](https://github.com/Bedrock-py/opal-analytics-logit2)\n",
    "* [select-from-dataframe](https://github.com/Bedrock-py/opal-analytics-select-from-dataframe)\n",
    "* [summarize](https://github.com/Bedrock-py/opal-analytics-summarize)\n",
    "\n",
    "This notebook also requires that bedrock-core be installed locally into the python kernel running this notebook.  This can be installed via command line using:\n",
    "\n",
    "`pip install git+https://github.com/Bedrock-py/bedrock-core.git`\n",
    "\n",
    "The other requirements to run this notebook are:\n",
    "\n",
    "* [`pandas`]()"
   ]
  },
  {
   "cell_type": "markdown",
   "metadata": {},
   "source": [
    "## Step 1: Check Environment"
   ]
  },
  {
   "cell_type": "markdown",
   "metadata": {},
   "source": [
    "First check that Bedrock is installed locally.  If the following cell does not run without error, check the install procedure above and try again.  Also, ensure that the kernel selected is the same as the kernel where bedrock-core is installed"
   ]
  },
  {
   "cell_type": "code",
   "execution_count": null,
   "metadata": {
    "collapsed": false
   },
   "outputs": [],
   "source": [
    "from bedrock.client.client import BedrockAPI"
   ]
  },
  {
   "cell_type": "markdown",
   "metadata": {},
   "source": [
    "### Test Connection to Bedrock Server\n",
    "\n",
    "This code assumes a local bedrock is hosted at localhost on port 81.  Change the `SERVER` variable to match your server's URL and port."
   ]
  },
  {
   "cell_type": "code",
   "execution_count": null,
   "metadata": {
    "collapsed": false
   },
   "outputs": [],
   "source": [
    "import requests\n",
    "import pandas\n",
    "import pprint\n",
    "SERVER = \"http://localhost:81/\"\n",
    "api = BedrockAPI(SERVER)"
   ]
  },
  {
   "cell_type": "markdown",
   "metadata": {},
   "source": [
    "### Check for Spreadsheet Opal\n",
    "\n",
    "The following code block checks the Bedrock server for the Spreadsheet Opal.  This Opal is used to load .csv, .xls, and other such files into a Bedrock matrix format.  The code below calls the Bedrock `/dataloaders/ingest` endpoint to check if the `opals.spreadsheet.Spreadsheet.Spreadsheet` opal is installed.\n",
    "\n",
    "If the code below shows the Opal is not installed, there are two options:\n",
    "1. If you are running a local Bedrock or are the administrator of the Bedrock server, install the Spreadsheet Opal with pip on the server [Spreadsheet](https://github.com/Bedrock-py/opal-dataloader-ingest-spreadsheet)\n",
    "2. If you are not administrator of the Bedrock server, e-mail the Bedrock administrator requesting the Opal be installed"
   ]
  },
  {
   "cell_type": "code",
   "execution_count": null,
   "metadata": {
    "collapsed": false
   },
   "outputs": [],
   "source": [
    "resp = api.ingest(\"opals.spreadsheet.Spreadsheet.Spreadsheet\")\n",
    "if resp.json():\n",
    "    print(\"Spreadsheet Opal Installed!\")\n",
    "else:\n",
    "    print(\"Spreadsheet Opal Not Installed!\")"
   ]
  },
  {
   "cell_type": "markdown",
   "metadata": {},
   "source": [
    "### Check for logit2 Opal\n",
    "\n",
    "The following code block checks the Bedrock server for the logit2 Opal. \n",
    "\n",
    "If the code below shows the Opal is not installed, there are two options:\n",
    "1. If you are running a local Bedrock or are the administrator of the Bedrock server, install the logit2 Opal with pip on the server [logit2](https://github.com/Bedrock-py/opal-analytics-logit2)\n",
    "2. If you are not administrator of the Bedrock server, e-mail the Bedrock administrator requesting the Opal be installed"
   ]
  },
  {
   "cell_type": "code",
   "execution_count": null,
   "metadata": {
    "collapsed": false
   },
   "outputs": [],
   "source": [
    "resp = api.analytic('opals.logit2.GLMer.GLMer')\n",
    "if resp.json():\n",
    "    print(\"GLMer Opal Installed!\")\n",
    "else:\n",
    "    print(\"GLMer Opal Not Installed!\")"
   ]
  },
  {
   "cell_type": "markdown",
   "metadata": {},
   "source": [
    "### Check for select-from-dataframe Opal\n",
    "\n",
    "The following code block checks the Bedrock server for the select-from-dataframe Opal. This allows you to filter by row and reduce the columns in a dataframe loaded by the server. \n",
    "\n",
    "If the code below shows the Opal is not installed, there are two options:\n",
    "1. If you are running a local Bedrock or are the administrator of the Bedrock server, install the select-from-datafram Opal with pip on the server [select-from-dataframe](https://github.com/Bedrock-py/opal-analytics-select-from-dataframe)\n",
    "2. If you are not administrator of the Bedrock server, e-mail the Bedrock administrator requesting the Opal be installed"
   ]
  },
  {
   "cell_type": "code",
   "execution_count": null,
   "metadata": {
    "collapsed": false
   },
   "outputs": [],
   "source": [
    "resp = api.analytic('opals.select-from-dataframe.SelectByCondition.SelectByCondition')\n",
    "if resp.json():\n",
    "    print(\"Select-from-dataframe Opal Installed!\")\n",
    "else:\n",
    "    print(\"Select-from-dataframe Opal Not Installed!\")"
   ]
  },
  {
   "cell_type": "markdown",
   "metadata": {},
   "source": [
    "### Check for summarize Opal\n",
    "\n",
    "The following code block checks the Bedrock server for the summarize Opal. This allows you to summarize a matrix with an optional groupby clause.\n",
    "\n",
    "If the code below shows the Opal is not installed, there are two options:\n",
    "1. If you are running a local Bedrock or are the administrator of the Bedrock server, install the summarize with pip on the server [summarize](https://github.com/Bedrock-py/opal-analytics-summarize)\n",
    "2. If you are not administrator of the Bedrock server, e-mail the Bedrock administrator requesting the Opal be installed"
   ]
  },
  {
   "cell_type": "code",
   "execution_count": null,
   "metadata": {
    "collapsed": false
   },
   "outputs": [],
   "source": [
    "resp = api.analytic('opals.summarize.Summarize.Summarize')\n",
    "if resp.json():\n",
    "    print(\"Summarize Opal Installed!\")\n",
    "else:\n",
    "    print(\"Summarize Opal Not Installed!\")"
   ]
  },
  {
   "cell_type": "markdown",
   "metadata": {},
   "source": [
    "## Step 2: Upload Data to Bedrock and Create Matrix\n",
    "\n",
    "Now that everything is installed, begin the workflow by uploading the csv data and creating a matrix.  To understand this fully, it is useful to understand how a data loading workflow occurs in Bedrock.\n",
    "\n",
    "1. Create a datasource that points to the original source file\n",
    "2. Generate a matrix from the data source (filters can be applied during this step to pre-filter the data source on load\n",
    "3. Analytics work on the generated matrix\n",
    "\n",
    "** Note: Each time a matrix is generated from a data source it will create a new copy with a new UUID to represent that matrix **"
   ]
  },
  {
   "cell_type": "markdown",
   "metadata": {},
   "source": [
    "### Check for csv file locally\n",
    "\n",
    "The following code opens the file and prints out the first part.  The file must be a csv file with a header that has labels for each column.  The file is comma delimited csv."
   ]
  },
  {
   "cell_type": "code",
   "execution_count": null,
   "metadata": {
    "collapsed": false
   },
   "outputs": [],
   "source": [
    "filepath = 'cooperation_exp2.csv'\n",
    "datafile = pandas.read_csv(filepath)\n",
    "datafile.head(10)"
   ]
  },
  {
   "cell_type": "markdown",
   "metadata": {},
   "source": [
    "### Now Upload the source file to the Bedrock Server\n",
    "\n",
    "This code block uses the Spreadsheet ingest module to upload the source file to Bedrock.  ** Note: This simply copies the file to the server, but does not create a Bedrock Matrix format **\n",
    "\n",
    "If the following fails to upload. Check that the csv file is in the correct comma delimited format with headers."
   ]
  },
  {
   "cell_type": "code",
   "execution_count": null,
   "metadata": {
    "collapsed": false,
    "deletable": true,
    "editable": true
   },
   "outputs": [],
   "source": [
    "ingest_id = 'opals.spreadsheet.Spreadsheet.Spreadsheet'\n",
    "resp = api.put_source('cooperation_exp2', ingest_id, 'default', {'file': open(filepath, \"rb\")})\n",
    "\n",
    "if resp.status_code == 201:\n",
    "    source_id = resp.json()['src_id']\n",
    "    print('Source {0} successfully uploaded'.format(filepath))\n",
    "else:\n",
    "    try:\n",
    "        print(\"Error in Upload: {}\".format(resp.json()['msg']))\n",
    "    except Exception:\n",
    "        pass\n",
    "    \n",
    "    try:\n",
    "        source_id = resp.json()['src_id']\n",
    "        print(\"Using existing source.  If this is not the desired behavior, upload with a different name.\")\n",
    "    except Exception:\n",
    "        print(\"No existing source id provided\")"
   ]
  },
  {
   "cell_type": "markdown",
   "metadata": {},
   "source": [
    "### Check available data sources for the CSV file\n",
    "\n",
    "Call the Bedrock sources list to see available data sources.  Note, that the `Rand2011` data source should now be available"
   ]
  },
  {
   "cell_type": "code",
   "execution_count": null,
   "metadata": {
    "collapsed": false,
    "deletable": true,
    "editable": true,
    "scrolled": true
   },
   "outputs": [],
   "source": [
    "available_sources = api.list(\"dataloader\", \"sources\").json()\n",
    "s = next(filter(lambda source: source['src_id'] == source_id, available_sources),'None')\n",
    "if s != 'None':\n",
    "    pp = pprint.PrettyPrinter()\n",
    "    pp.pprint(s)\n",
    "else:\n",
    "    print(\"Could not find source\")"
   ]
  },
  {
   "cell_type": "markdown",
   "metadata": {},
   "source": [
    "### Create a Bedrock Matrix from the CSV Source\n",
    "\n",
    "In order to use the data, the data source must be converted to a Bedrock matrix.  The following code steps through that process.  Here we are doing a simple transform of csv to matrix.  There are options to apply filters (like renaming columns, excluding colum"
   ]
  },
  {
   "cell_type": "code",
   "execution_count": null,
   "metadata": {
    "collapsed": false,
    "deletable": true,
    "editable": true
   },
   "outputs": [],
   "source": [
    "resp = api.create_matrix(source_id, 'cooperation_exp2_mtx')\n",
    "mtx = resp[0]\n",
    "matrix_id = mtx['id']\n",
    "print(mtx)\n",
    "resp"
   ]
  },
  {
   "cell_type": "markdown",
   "metadata": {},
   "source": [
    "### Look at basic statistics on the source data\n",
    "\n",
    "Here we can see that Bedrock has computed some basic statistics on the source data.\n",
    "\n",
    "#### For numeric data\n",
    "\n",
    "The quartiles, max, mean, min, and standard deviation are provided\n",
    "\n",
    "#### For non-numeric data\n",
    "\n",
    "The label values and counts for each label are provided.\n",
    "\n",
    "#### For both types\n",
    "\n",
    "The proposed tags and data type that Bedrock is suggesting are provided"
   ]
  },
  {
   "cell_type": "code",
   "execution_count": null,
   "metadata": {
    "collapsed": false
   },
   "outputs": [],
   "source": [
    "analytic_id = \"opals.summarize.Summarize.Summarize\"\n",
    "inputData = {\n",
    "    'matrix.csv': mtx,\n",
    "    'features.txt': mtx\n",
    "}\n",
    "\n",
    "paramsData = []\n",
    "\n",
    "summary_mtx = api.run_analytic(analytic_id, mtx, 'cooperation_exp2_summary', input_data=inputData, parameter_data=paramsData)\n",
    "output = api.download_results_matrix(matrix_id, summary_mtx['id'], 'matrix.csv')\n",
    "output"
   ]
  },
  {
   "cell_type": "markdown",
   "metadata": {},
   "source": [
    "# Upload Rewire data set"
   ]
  },
  {
   "cell_type": "code",
   "execution_count": null,
   "metadata": {
    "collapsed": false
   },
   "outputs": [],
   "source": [
    "filepath = 'rewire_exp2.csv'\n",
    "datafile = pandas.read_csv(filepath)\n",
    "datafile.head(10)"
   ]
  },
  {
   "cell_type": "markdown",
   "metadata": {},
   "source": [
    "### Now Upload the source file to the Bedrock Server\n",
    "\n",
    "This code block uses the Spreadsheet ingest module to upload the source file to Bedrock.  ** Note: This simply copies the file to the server, but does not create a Bedrock Matrix format **\n",
    "\n",
    "If the following fails to upload. Check that the csv file is in the correct comma delimited format with headers."
   ]
  },
  {
   "cell_type": "code",
   "execution_count": null,
   "metadata": {
    "collapsed": false,
    "editable": true
   },
   "outputs": [],
   "source": [
    "ingest_id = 'opals.spreadsheet.Spreadsheet.Spreadsheet'\n",
    "resp = api.put_source('rewire_exp2', ingest_id, 'default', {'file': open(filepath, \"rb\")})\n",
    "\n",
    "if resp.status_code == 201:\n",
    "    source_id = resp.json()['src_id']\n",
    "    print('Source {0} successfully uploaded'.format(filepath))\n",
    "else:\n",
    "    try:\n",
    "        print(\"Error in Upload: {}\".format(resp.json()['msg']))\n",
    "    except Exception:\n",
    "        pass\n",
    "    \n",
    "    try:\n",
    "        source_id = resp.json()['src_id']\n",
    "        print(\"Using existing source.  If this is not the desired behavior, upload with a different name.\")\n",
    "    except Exception:\n",
    "        print(\"No existing source id provided\")"
   ]
  },
  {
   "cell_type": "code",
   "execution_count": null,
   "metadata": {
    "collapsed": false,
    "editable": true
   },
   "outputs": [],
   "source": [
    "resp = api.create_matrix(source_id, 'rewire_exp2_mtx')\n",
    "rewire_mtx = resp[0]\n",
    "rewire_matrix_id = rewire_mtx['id']\n",
    "print(rewire_mtx)\n",
    "resp"
   ]
  },
  {
   "cell_type": "markdown",
   "metadata": {},
   "source": [
    "# Hypothesis 1.1\n",
    "\n",
    "Individuals will be more likely to form connections with in-group members than with out-group members"
   ]
  },
  {
   "cell_type": "code",
   "execution_count": null,
   "metadata": {
    "collapsed": false
   },
   "outputs": [],
   "source": [
    "analytic_id = \"opals.logit2.GLMer.GLMer\"\n",
    "inputData = {\n",
    "    'matrix.csv': rewire_mtx,\n",
    "    'features.txt': rewire_mtx\n",
    "}\n",
    "\n",
    "paramsData = [\n",
    "    {\"attrname\":\"formula\",\"value\":\"connect~ingroup + (1|playerid)\"},\n",
    "    {\"attrname\":\"family\",\"value\":\"binomial\"}\n",
    "]\n",
    "\n",
    "hyp_1_1 = api.run_analytic(analytic_id, rewire_mtx, 'exp2_hypothesis_1_1', input_data=inputData, parameter_data=paramsData)\n",
    "s = api.download_results_matrix(hyp_1_1['src_id'], hyp_1_1['id'], 'summary.txt')\n",
    "print(s)\n",
    "f = api.download_results_matrix(hyp_1_1['src_id'], hyp_1_1['id'], 'matrix.csv')\n",
    "f"
   ]
  },
  {
   "cell_type": "markdown",
   "metadata": {},
   "source": [
    "# Hypothesis 1.2\n",
    "\n",
    "Overall cooperation level will increase with successive rounds"
   ]
  },
  {
   "cell_type": "code",
   "execution_count": null,
   "metadata": {
    "collapsed": false
   },
   "outputs": [],
   "source": [
    "analytic_id = \"opals.logit2.GLMer.GLMer\"\n",
    "inputData = {\n",
    "    'matrix.csv': mtx,\n",
    "    'features.txt': mtx\n",
    "}\n",
    "\n",
    "paramsData = [\n",
    "    {\"attrname\":\"formula\",\"value\":\"decision0d1c~round_num + (1|playerid)\"},\n",
    "    {\"attrname\":\"family\",\"value\":\"binomial\"}\n",
    "]\n",
    "\n",
    "hyp_1_2 = api.run_analytic(analytic_id, mtx, 'exp2_hypothesis_1_2', input_data=inputData, parameter_data=paramsData)\n",
    "s = api.download_results_matrix(hyp_1_2['src_id'], hyp_1_2['id'], 'summary.txt')\n",
    "print(s)\n",
    "f = api.download_results_matrix(hyp_1_2['src_id'], hyp_1_2['id'], 'matrix.csv')\n",
    "f"
   ]
  },
  {
   "cell_type": "markdown",
   "metadata": {},
   "source": [
    "# Hypothesis 2.1\n",
    "\n",
    "In-group favoritism will be more likely in the biased pairing condition"
   ]
  },
  {
   "cell_type": "code",
   "execution_count": null,
   "metadata": {
    "collapsed": false
   },
   "outputs": [],
   "source": [
    "analytic_id = \"opals.logit2.GLMer.GLMer\"\n",
    "inputData = {\n",
    "    'matrix.csv': mtx,\n",
    "    'features.txt': mtx\n",
    "}\n",
    "\n",
    "paramsData = [\n",
    "    {\"attrname\":\"formula\",\"value\":\"decision0d1c~ingroup*biased + (1|playerid)\"},\n",
    "    {\"attrname\":\"family\",\"value\":\"binomial\"}\n",
    "]\n",
    "\n",
    "hyp_2_1 = api.run_analytic(analytic_id, mtx, 'exp2_hypothesis_2_1', input_data=inputData, parameter_data=paramsData)\n",
    "s = api.download_results_matrix(hyp_2_1['src_id'], hyp_2_1['id'], 'summary.txt')\n",
    "print(s)\n",
    "f = api.download_results_matrix(hyp_2_1['src_id'], hyp_2_1['id'], 'matrix.csv')\n",
    "f"
   ]
  },
  {
   "cell_type": "markdown",
   "metadata": {},
   "source": [
    "# Hypothesis 3.1\n",
    "\n",
    "Individuals in the 2 avatar condition will be more likely to form connections with in-group members than those in the 4 avatar condition"
   ]
  },
  {
   "cell_type": "code",
   "execution_count": null,
   "metadata": {
    "collapsed": false,
    "scrolled": true
   },
   "outputs": [],
   "source": [
    "analytic_id = \"opals.logit2.GLMer.GLMer\"\n",
    "inputData = {\n",
    "    'matrix.csv': rewire_mtx,\n",
    "    'features.txt': rewire_mtx\n",
    "}\n",
    "\n",
    "paramsData = [\n",
    "    {\"attrname\":\"formula\",\"value\":\"connect~ingroup*identities + (1|playerid)\"},\n",
    "    {\"attrname\":\"family\",\"value\":\"binomial\"}\n",
    "]\n",
    "\n",
    "hyp_3_1 = api.run_analytic(analytic_id, rewire_mtx, 'exp2_hypothesis_3_1', input_data=inputData, parameter_data=paramsData)\n",
    "s = api.download_results_matrix(hyp_3_1['src_id'], hyp_3_1['id'], 'summary.txt')\n",
    "print(s)\n",
    "f = api.download_results_matrix(hyp_3_1['src_id'], hyp_3_1['id'], 'matrix.csv')\n",
    "f"
   ]
  },
  {
   "cell_type": "markdown",
   "metadata": {},
   "source": [
    "# Hypothesis 3.2\n",
    "\n",
    "Individuals in the 2 avatar condition will be less likely to cooperate with in-group members than those in the 4 avatar condition"
   ]
  },
  {
   "cell_type": "code",
   "execution_count": null,
   "metadata": {
    "collapsed": false
   },
   "outputs": [],
   "source": [
    "analytic_id = \"opals.logit2.GLMer.GLMer\"\n",
    "inputData = {\n",
    "    'matrix.csv': mtx,\n",
    "    'features.txt': mtx\n",
    "}\n",
    "\n",
    "paramsData = [\n",
    "    {\"attrname\":\"formula\",\"value\":\"decision0d1c~ingroup*identities + (1|playerid)\"},\n",
    "    {\"attrname\":\"family\",\"value\":\"binomial\"}\n",
    "]\n",
    "\n",
    "hyp_3_1 = api.run_analytic(analytic_id, mtx, 'exp2_hypothesis_3_1', input_data=inputData, parameter_data=paramsData)\n",
    "s = api.download_results_matrix(hyp_3_1['src_id'], hyp_3_1['id'], 'summary.txt')\n",
    "print(s)\n",
    "f = api.download_results_matrix(hyp_3_1['src_id'], hyp_3_1['id'], 'matrix.csv')\n",
    "f"
   ]
  },
  {
   "cell_type": "markdown",
   "metadata": {},
   "source": [
    "# Bayesian Analysis of Hypotheses\n",
    "\n",
    "Now use Bayesian GLM with STAN to evaluate the hypothesis"
   ]
  },
  {
   "cell_type": "markdown",
   "metadata": {},
   "source": [
    "### Check for Stan_GLM Opal\n",
    "\n",
    "The following code block checks the Bedrock server for the logit2 Opal. \n",
    "\n",
    "If the code below shows the Opal is not installed, there are two options:\n",
    "1. If you are running a local Bedrock or are the administrator of the Bedrock server, install the logit2 Opal with pip on the server [Stan_GLM](https://github.com/Bedrock-py/opal-analytics-stan)\n",
    "2. If you are not administrator of the Bedrock server, e-mail the Bedrock administrator requesting the Opal be installed"
   ]
  },
  {
   "cell_type": "code",
   "execution_count": null,
   "metadata": {
    "collapsed": false
   },
   "outputs": [],
   "source": [
    "resp = api.analytic('opals.stan.Stan_GLM.Stan_GLM')\n",
    "if resp.json():\n",
    "    print(\"Stan_GLM Opal Installed!\")\n",
    "else:\n",
    "    print(\"Stan_GLM Opal Not Installed!\")"
   ]
  },
  {
   "cell_type": "markdown",
   "metadata": {},
   "source": [
    "## Hypothesis 1.1\n",
    "\n",
    "Individuals will be more likely to form connections with in-group members than with out-group members"
   ]
  },
  {
   "cell_type": "code",
   "execution_count": null,
   "metadata": {
    "collapsed": false
   },
   "outputs": [],
   "source": [
    "analytic_id = \"opals.stan.Stan.Stan_GLM\"\n",
    "inputData = {\n",
    "    'matrix.csv': rewire_mtx,\n",
    "    'features.txt': rewire_mtx\n",
    "}\n",
    "\n",
    "paramsData = [\n",
    "    {\"attrname\":\"formula\",\"value\":\"connect~ingroup + (1|playerid)\"},\n",
    "    {\"attrname\":\"family\",\"value\":'logit'},\n",
    "    {\"attrname\":\"chains\",\"value\":\"3\"},\n",
    "    {\"attrname\":\"iter\",\"value\":\"3000\"},\n",
    "    {\"attrname\":\"mixed_effect\",\"value\":\"true\"}\n",
    "]\n",
    "\n",
    "bayes_1_1 = api.run_analytic(analytic_id, mtx, 'exp2_bayesian_1_1', input_data=inputData, parameter_data=paramsData)\n",
    "s = api.download_results_matrix(bayes_1_1['src_id'], bayes_1_1['id'], 'prior_summary.txt')\n",
    "print(s)\n",
    "f = api.download_results_matrix(bayes_1_1['src_id'], bayes_1_1['id'], 'matrix.csv')\n",
    "f"
   ]
  },
  {
   "cell_type": "markdown",
   "metadata": {},
   "source": [
    "## Now with tuned prior"
   ]
  },
  {
   "cell_type": "code",
   "execution_count": null,
   "metadata": {
    "collapsed": false
   },
   "outputs": [],
   "source": [
    "analytic_id = \"opals.stan.Stan.Stan_GLM\"\n",
    "inputData = {\n",
    "    'matrix.csv': rewire_mtx,\n",
    "    'features.txt': rewire_mtx\n",
    "}\n",
    "\n",
    "paramsData = [\n",
    "    {\"attrname\":\"formula\",\"value\":\"connect~ingroup + (1|playerid)\"},\n",
    "    {\"attrname\":\"family\",\"value\":'logit'},\n",
    "    {\"attrname\":\"chains\",\"value\":\"3\"},\n",
    "    {\"attrname\":\"iter\",\"value\":\"3000\"},\n",
    "    {\"attrname\":\"prior\",\"value\":\"student_t(log(1.5), df = 7)\"},\n",
    "    {\"attrname\":\"mixed_effect\",\"value\":\"true\"}\n",
    "]\n",
    "\n",
    "bayes_1_1_inform = api.run_analytic(analytic_id, mtx, 'exp2_bayesian_1_1_inform', input_data=inputData, parameter_data=paramsData)\n",
    "s = api.download_results_matrix(bayes_1_1_inform['src_id'], bayes_1_1_inform['id'], 'prior_summary.txt')\n",
    "print(s)\n",
    "f = api.download_results_matrix(bayes_1_1_inform['src_id'], bayes_1_1_inform['id'], 'matrix.csv')\n",
    "f"
   ]
  },
  {
   "cell_type": "markdown",
   "metadata": {},
   "source": [
    "## Hypothesis 1.2\n",
    "\n",
    "Overall cooperation level will increase with successive rounds"
   ]
  },
  {
   "cell_type": "code",
   "execution_count": null,
   "metadata": {
    "collapsed": false
   },
   "outputs": [],
   "source": [
    "analytic_id = \"opals.stan.Stan.Stan_GLM\"\n",
    "inputData = {\n",
    "    'matrix.csv': mtx,\n",
    "    'features.txt': mtx\n",
    "}\n",
    "\n",
    "paramsData = [\n",
    "    {\"attrname\":\"formula\",\"value\":\"decision0d1c~round_num + (1|playerid)\"},\n",
    "    {\"attrname\":\"family\",\"value\":'logit'},\n",
    "    {\"attrname\":\"chains\",\"value\":\"3\"},\n",
    "    {\"attrname\":\"iter\",\"value\":\"3000\"},\n",
    "    {\"attrname\":\"mixed_effect\",\"value\":\"true\"}\n",
    "]\n",
    "\n",
    "bayes_1_2 = api.run_analytic(analytic_id, mtx, 'exp2_bayesian_1_2', input_data=inputData, parameter_data=paramsData)\n",
    "s = api.download_results_matrix(bayes_1_2['src_id'], bayes_1_2['id'], 'prior_summary.txt')\n",
    "print(s)\n",
    "f = api.download_results_matrix(bayes_1_2['src_id'], bayes_1_2['id'], 'matrix.csv')\n",
    "f"
   ]
  },
  {
   "cell_type": "markdown",
   "metadata": {},
   "source": [
    "## Now with tuned prior"
   ]
  },
  {
   "cell_type": "code",
   "execution_count": null,
   "metadata": {
    "collapsed": false
   },
   "outputs": [],
   "source": [
    "analytic_id = \"opals.stan.Stan.Stan_GLM\"\n",
    "inputData = {\n",
    "    'matrix.csv': mtx,\n",
    "    'features.txt': mtx\n",
    "}\n",
    "\n",
    "paramsData = [\n",
    "    {\"attrname\":\"formula\",\"value\":\"decision0d1c~round_num + (1|playerid)\"},\n",
    "    {\"attrname\":\"family\",\"value\":'logit'},\n",
    "    {\"attrname\":\"chains\",\"value\":\"3\"},\n",
    "    {\"attrname\":\"iter\",\"value\":\"3000\"},\n",
    "    {\"attrname\":\"prior\",\"value\":\"student_t(log(1.5^(1/15)), df = 7)\"},\n",
    "    {\"attrname\":\"mixed_effect\",\"value\":\"true\"}\n",
    "]\n",
    "\n",
    "bayes_1_2_inform = api.run_analytic(analytic_id, mtx, 'exp2_bayesian_1_2_inform', input_data=inputData, parameter_data=paramsData)\n",
    "s = api.download_results_matrix(bayes_1_2_inform['src_id'], bayes_1_2_inform['id'], 'prior_summary.txt')\n",
    "print(s)\n",
    "f = api.download_results_matrix(bayes_1_2_inform['src_id'], bayes_1_2_inform['id'], 'matrix.csv')\n",
    "f"
   ]
  },
  {
   "cell_type": "markdown",
   "metadata": {},
   "source": [
    "## Hypothesis 2.1\n",
    "\n",
    "In-group favoritism will be more likely in the biased pairing condition"
   ]
  },
  {
   "cell_type": "code",
   "execution_count": null,
   "metadata": {
    "collapsed": false
   },
   "outputs": [],
   "source": [
    "analytic_id = \"opals.stan.Stan.Stan_GLM\"\n",
    "inputData = {\n",
    "    'matrix.csv': mtx,\n",
    "    'features.txt': mtx\n",
    "}\n",
    "\n",
    "paramsData = [\n",
    "    {\"attrname\":\"formula\",\"value\":\"decision0d1c~ingroup*biased + (1|playerid)\"},\n",
    "    {\"attrname\":\"family\",\"value\":'logit'},\n",
    "    {\"attrname\":\"chains\",\"value\":\"3\"},\n",
    "    {\"attrname\":\"iter\",\"value\":\"3000\"},\n",
    "    {\"attrname\":\"mixed_effect\",\"value\":\"true\"}\n",
    "]\n",
    "\n",
    "bayes_2_1 = api.run_analytic(analytic_id, mtx, 'exp2_bayesian_2_1', input_data=inputData, parameter_data=paramsData)\n",
    "s = api.download_results_matrix(bayes_2_1['src_id'], bayes_2_1['id'], 'prior_summary.txt')\n",
    "print(s)\n",
    "f = api.download_results_matrix(bayes_2_1['src_id'], bayes_2_1['id'], 'matrix.csv')\n",
    "f"
   ]
  },
  {
   "cell_type": "markdown",
   "metadata": {},
   "source": [
    "## Now with tuned prior"
   ]
  },
  {
   "cell_type": "code",
   "execution_count": null,
   "metadata": {
    "collapsed": false
   },
   "outputs": [],
   "source": [
    "analytic_id = \"opals.stan.Stan.Stan_GLM\"\n",
    "inputData = {\n",
    "    'matrix.csv': mtx,\n",
    "    'features.txt': mtx\n",
    "}\n",
    "\n",
    "paramsData = [\n",
    "    {\"attrname\":\"formula\",\"value\":\"decision0d1c~ingroup*biased + (1|playerid)\"},\n",
    "    {\"attrname\":\"family\",\"value\":'logit'},\n",
    "    {\"attrname\":\"chains\",\"value\":\"3\"},\n",
    "    {\"attrname\":\"iter\",\"value\":\"3000\"},\n",
    "    {\"attrname\":\"prior\",\"value\":\"student_t(c(0, 0, log(1.25)), df=7)\"},\n",
    "    {\"attrname\":\"mixed_effect\",\"value\":\"true\"}\n",
    "]\n",
    "\n",
    "bayes_2_1_inform = api.run_analytic(analytic_id, mtx, 'exp2_bayesian_2_1_inform', input_data=inputData, parameter_data=paramsData)\n",
    "s = api.download_results_matrix(bayes_2_1_inform['src_id'], bayes_2_1_inform['id'], 'prior_summary.txt')\n",
    "print(s)\n",
    "f = api.download_results_matrix(bayes_2_1_inform['src_id'], bayes_2_1_inform['id'], 'matrix.csv')\n",
    "f"
   ]
  },
  {
   "cell_type": "markdown",
   "metadata": {},
   "source": [
    "## Hypothesis 3.1\n",
    "\n",
    "Individuals in the 2 avatar condition will be more likely to form connections with in-group members than those in the 4 avatar condition"
   ]
  },
  {
   "cell_type": "code",
   "execution_count": null,
   "metadata": {
    "collapsed": false
   },
   "outputs": [],
   "source": [
    "analytic_id = \"opals.stan.Stan.Stan_GLM\"\n",
    "inputData = {\n",
    "    'matrix.csv': rewire_mtx,\n",
    "    'features.txt': rewire_mtx\n",
    "}\n",
    "\n",
    "paramsData = [\n",
    "    {\"attrname\":\"formula\",\"value\":\"connect~ingroup*identities + (1|playerid)\"},\n",
    "    {\"attrname\":\"family\",\"value\":'logit'},\n",
    "    {\"attrname\":\"chains\",\"value\":\"3\"},\n",
    "    {\"attrname\":\"iter\",\"value\":\"3000\"},\n",
    "    {\"attrname\":\"mixed_effect\",\"value\":\"true\"}\n",
    "]\n",
    "\n",
    "bayes_3_1 = api.run_analytic(analytic_id, rewire_mtx, 'exp2_bayesian_3_1', input_data=inputData, parameter_data=paramsData)\n",
    "s = api.download_results_matrix(bayes_3_1['src_id'], bayes_3_1['id'], 'prior_summary.txt')\n",
    "print(s)\n",
    "f = api.download_results_matrix(bayes_3_1['src_id'], bayes_3_1['id'], 'matrix.csv')\n",
    "f"
   ]
  },
  {
   "cell_type": "markdown",
   "metadata": {},
   "source": [
    "## Now with tuned prior"
   ]
  },
  {
   "cell_type": "code",
   "execution_count": null,
   "metadata": {
    "collapsed": false
   },
   "outputs": [],
   "source": [
    "analytic_id = \"opals.stan.Stan.Stan_GLM\"\n",
    "inputData = {\n",
    "    'matrix.csv': rewire_mtx,\n",
    "    'features.txt': rewire_mtx\n",
    "}\n",
    "\n",
    "paramsData = [\n",
    "    {\"attrname\":\"formula\",\"value\":\"connect~ingroup*identities + (1|playerid)\"},\n",
    "    {\"attrname\":\"family\",\"value\":'logit'},\n",
    "    {\"attrname\":\"chains\",\"value\":\"3\"},\n",
    "    {\"attrname\":\"iter\",\"value\":\"3000\"},\n",
    "    {\"attrname\":\"prior\",\"value\":\"student_t(c(0, 0, log(1.5)), df=7)\"},\n",
    "    {\"attrname\":\"mixed_effect\",\"value\":\"true\"}\n",
    "]\n",
    "\n",
    "bayes_3_1_inform = api.run_analytic(analytic_id, rewire_mtx, 'exp2_bayesian_3_1_inform', input_data=inputData, parameter_data=paramsData)\n",
    "s = api.download_results_matrix(bayes_3_1_inform['src_id'], bayes_3_1_inform['id'], 'prior_summary.txt')\n",
    "print(s)\n",
    "f = api.download_results_matrix(bayes_3_1_inform['src_id'], bayes_3_1_inform['id'], 'matrix.csv')\n",
    "f"
   ]
  },
  {
   "cell_type": "markdown",
   "metadata": {},
   "source": [
    "## Hypothesis 3.2\n",
    "\n",
    "Individuals in the 2 avatar condition will be less likely to cooperate with in-group members than those in the 4 avatar condition"
   ]
  },
  {
   "cell_type": "code",
   "execution_count": null,
   "metadata": {
    "collapsed": false
   },
   "outputs": [],
   "source": [
    "analytic_id = \"opals.stan.Stan.Stan_GLM\"\n",
    "inputData = {\n",
    "    'matrix.csv': mtx,\n",
    "    'features.txt': mtx\n",
    "}\n",
    "\n",
    "paramsData = [\n",
    "    {\"attrname\":\"formula\",\"value\":\"decision0d1c~ingroup*identities + (1|playerid)\"},\n",
    "    {\"attrname\":\"family\",\"value\":'logit'},\n",
    "    {\"attrname\":\"chains\",\"value\":\"3\"},\n",
    "    {\"attrname\":\"iter\",\"value\":\"3000\"},\n",
    "    {\"attrname\":\"mixed_effect\",\"value\":\"true\"}\n",
    "]\n",
    "\n",
    "bayes_3_2 = api.run_analytic(analytic_id, mtx, 'exp2_bayesian_3_2', input_data=inputData, parameter_data=paramsData)\n",
    "s = api.download_results_matrix(bayes_3_2['src_id'], bayes_3_2['id'], 'prior_summary.txt')\n",
    "print(s)\n",
    "f = api.download_results_matrix(bayes_3_2['src_id'], bayes_3_2['id'], 'matrix.csv')\n",
    "f"
   ]
  },
  {
   "cell_type": "markdown",
   "metadata": {},
   "source": [
    "## Now with tuned prior"
   ]
  },
  {
   "cell_type": "code",
   "execution_count": null,
   "metadata": {
    "collapsed": false
   },
   "outputs": [],
   "source": [
    "analytic_id = \"opals.stan.Stan.Stan_GLM\"\n",
    "inputData = {\n",
    "    'matrix.csv': mtx,\n",
    "    'features.txt': mtx\n",
    "}\n",
    "\n",
    "paramsData = [\n",
    "    {\"attrname\":\"formula\",\"value\":\"decision0d1c~ingroup*identities + (1|playerid)\"},\n",
    "    {\"attrname\":\"family\",\"value\":'logit'},\n",
    "    {\"attrname\":\"chains\",\"value\":\"3\"},\n",
    "    {\"attrname\":\"iter\",\"value\":\"3000\"},\n",
    "    {\"attrname\":\"prior\",\"value\":\"student_t(c(0, 0, log(1.25)), df=7)\"},\n",
    "    {\"attrname\":\"mixed_effect\",\"value\":\"true\"}\n",
    "]\n",
    "\n",
    "bayes_3_2_inform = api.run_analytic(analytic_id, mtx, 'exp2_bayesian_3_2_inform', input_data=inputData, parameter_data=paramsData)\n",
    "s = api.download_results_matrix(bayes_3_2_inform['src_id'], bayes_3_2_inform['id'], 'prior_summary.txt')\n",
    "print(s)\n",
    "f = api.download_results_matrix(bayes_3_2_inform['src_id'], bayes_3_2_inform['id'], 'matrix.csv')\n",
    "f"
   ]
  },
  {
   "cell_type": "code",
   "execution_count": null,
   "metadata": {
    "collapsed": true
   },
   "outputs": [],
   "source": []
  }
 ],
 "metadata": {
  "kernelspec": {
   "display_name": "Python 3",
   "language": "python",
   "name": "python3"
  },
  "language_info": {
   "codemirror_mode": {
    "name": "ipython",
    "version": 3
   },
   "file_extension": ".py",
   "mimetype": "text/x-python",
   "name": "python",
   "nbconvert_exporter": "python",
   "pygments_lexer": "ipython3",
   "version": "3.5.2"
  }
 },
 "nbformat": 4,
 "nbformat_minor": 2
}
